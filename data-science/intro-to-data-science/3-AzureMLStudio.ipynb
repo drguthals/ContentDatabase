{
  "cells": [
    {
      "metadata": {},
      "cell_type": "markdown",
      "source": "# Cloud-based machine learning\n\nThus far, we have looked at building and fitting ML models “locally.” True, the notebooks have been located in the cloud themselves, but the models with all of their predictive and classification power are stuck in those notebooks. To use these models, you would have to load data into your notebooks and get the results there.\n\nIn practice, we want those models accessible from a number of locations. And while the management of production ML models has a lifecycle all its own, one part of that is making models accessible from the web. One way to do so is to develop them using third-party cloud tools, such as [Microsoft Azure ML Studio](https://studio.azureml.net) (not to be confused with Microsoft Azure Machine Learning sService, which provides end-to-end lifecycle management for ML models).\n\nAlternatively, we can develop and deploy a function that can be accessed by other programs over the web—a web service—that runs within Azure ML Studio, and we can do so entirely from a Python notebook. In this section, we will use the [`azureml`](https://github.com/Azure/Azure-MachineLearning-ClientLibrary-Python) package to deploy an Azure ML web service directly from within a Python notebook (or other Python environment).\n\n> <font color=red>**Note:**</font> The `azureml` package presently works only with Python 2. If your notebook is not currently running Python 2, change it in the menu at the top of the notebook by clicking **Kernel > Change kernel > Python 2**.\n\n## Create and connect to an Azure ML Studio workspace\n\nThe `azureml` package is installed by default with Azure Notebooks, so we don't have to worry about that. It uses an Azure ML Studio workspace ID and authorization token to connect your notebook to the workspace; you will obtain the ID and token by following these steps:\n\n1. Open [Azure ML Studio](https://studio.azureml.net) in a new browser tab and sign in with a Microsoft account. Azure ML Studio is free and does not require an Azure subscription. Once signed in with your Microsoft account (the same credentials you’ve used for Azure Notebooks), you're in your “workspace.”\n\n2. On the left pane, click **Settings**.\n\n    ![Settings button](https://github.com/Microsoft/AzureNotebooks/blob/master/Samples/images/azure-ml-studio-settings.png?raw=true)<br/><br/>\n\n3. On the **Name** tab, the **Workspace ID** field contains your workspace ID. Copy that ID into the `workspace_id` value in the code cell in Step 5 of the notebook below.\n\n    ![Location of workspace ID](https://github.com/Microsoft/AzureNotebooks/blob/master/Samples/images/azure-ml-studio-workspace-id.png?raw=true)<br/><br/>\n\n4. Click the **Authorization Tokens** tab, and then copy either token into the `authorization_token` value in the code cell in Step 5 of the notebook.\n\n    ![Location of authorization token](https://github.com/Microsoft/AzureNotebooks/blob/master/Samples/images/azure-ml-studio-tokens.png?raw=true)<br/><br/>\n\n5. 5.\tRun the code cell below; if it runs without error, you're ready to continue."
    },
    {
      "metadata": {
        "trusted": false
      },
      "cell_type": "code",
      "source": "from azureml import Workspace\n\n# Replace the values with those from your own Azure ML Studio instance; see Prerequisites\n# The workspace_id is a string of hexadecimal characters; the token is a long string of random characters.\nworkspace_id = 'your_workspace_id'\nauthorization_token = 'your_auth_token'\n\nws = Workspace(workspace_id, authorization_token)",
      "execution_count": null,
      "outputs": []
    },
    {
      "metadata": {},
      "cell_type": "markdown",
      "source": "## Explore forest fire data\n\nLet’s look at a meteorological dataset collected by Cortez and Morais for 2007 to study the burned area of forest fires in the northeast region of Portugal.\n\n> P. Cortez and A. Morais. A Data Mining Approach to Predict Forest Fires using Meteorological Data. \n  In J. Neves, M. F. Santos and J. Machado Eds., New Trends in Artificial Intelligence, \n  Proceedings of the 13th EPIA 2007 - Portuguese Conference on Artificial Intelligence, December, \n  Guimaraes, Portugal, pp. 512-523, 2007. APPIA, ISBN-13 978-989-95618-0-9. \n\nThe dataset contains the following features:\n\n- **`X`**: x-axis spatial coordinate within the Montesinho park map: 1 to 9\n- **`Y`**: y-axis spatial coordinate within the Montesinho park map: 2 to 9\n- **`month`**: month of the year: \"1\" to \"12\" jan-dec\n- **`day`**: day of the week: \"1\" to \"7\" sun-sat\n- **`FFMC`**: FFMC index from the FWI system: 18.7 to 96.20\n- **`DMC`**: DMC index from the FWI system: 1.1 to 291.3 \n- **`DC`**: DC index from the FWI system: 7.9 to 860.6 \n- **`ISI`**: ISI index from the FWI system: 0.0 to 56.10\n- **`temp`**: temperature in Celsius degrees: 2.2 to 33.30\n- **`RH`**: relative humidity in %: 15.0 to 100\n- **`wind`**: wind speed in km/h: 0.40 to 9.40 \n- **`rain`**: outside rain in mm/m2 : 0.0 to 6.4 \n- **`area`**: the burned area of the forest (in ha): 0.00 to 1090.84 \n"
    },
    {
      "metadata": {},
      "cell_type": "markdown",
      "source": "Let's load the dataset and visualize the area that was burned in relation to the temperature in that region."
    },
    {
      "metadata": {
        "trusted": false
      },
      "cell_type": "code",
      "source": "import pandas as pd\ndf = pd.DataFrame(pd.read_csv('../Data/forestfires.csv'))\n%matplotlib inline\nfrom ggplot import *\nggplot(aes(x='temp', y='area'), data=df) +  geom_line() + geom_point()",
      "execution_count": null,
      "outputs": []
    },
    {
      "metadata": {},
      "cell_type": "markdown",
      "source": "Intuitively, the hotter the weather, the more hectares burned in forest fires."
    },
    {
      "metadata": {},
      "cell_type": "markdown",
      "source": "## Transfer your data to Azure ML Studio\n\nWe have our data, but how do we get it into Azure ML Studio in order to use it there? That is where the `azureml` package comes in. It enables us to load data and models into Azure ML Studio from an Azure Notebook (or any Python environment).\n\nThe first code cell of this notebook is what establishes the connection with *your* Azure ML Studio account."
    },
    {
      "metadata": {},
      "cell_type": "markdown",
      "source": "Now that you have your notebook talking to Azure ML Studio, you can export your data to it:"
    },
    {
      "metadata": {
        "trusted": false
      },
      "cell_type": "code",
      "source": "from azureml import DataTypeIds\n\ndataset = ws.datasets.add_from_dataframe(\n              dataframe=df,\n              data_type_id=DataTypeIds.GenericCSV,\n              name='Forest Fire Data',\n              description='Paulo Cortez and Aníbal Morais (Univ. Minho) @ 2007'\n          )",
      "execution_count": null,
      "outputs": []
    },
    {
      "metadata": {},
      "cell_type": "markdown",
      "source": "After running the code above, you can see the dataset listed in the **Datasets** section of the Azure Machine Learning Studio workspace. (**Note**: You might need to switch between browser tabs and refresh the page in order to see the dataset.)\n\n![image.png](attachment:image.png)<br/>\n\nIt is also straightforward to list the datasets available in the workspace and transfer datasets from the workspace to the notebook:",
      "attachments": {
        "image.png": {
          "image/png": "[encoded data removed]"
        }
      }
    },
    {
      "metadata": {
        "trusted": false
      },
      "cell_type": "code",
      "source": "print('\\n'.join([i.name for i in ws.datasets if not i.is_example])) # only list user-created datasets",
      "execution_count": null,
      "outputs": []
    },
    {
      "metadata": {},
      "cell_type": "markdown",
      "source": "You can also interact with and examine the dataset in Azure ML Studio directly from your notebook:"
    },
    {
      "metadata": {
        "trusted": false
      },
      "cell_type": "code",
      "source": "# Read some more of the metadata\nds = ws.datasets['Forest Fire Data']\nprint(ds.name)\nprint(ds.description)\nprint(ds.family_id)\nprint(ds.data_type_id)\nprint(ds.created_date)\nprint(ds.size)\n\n# Read the contents\ndf2 = ds.to_dataframe()\ndf2.head()",
      "execution_count": null,
      "outputs": []
    },
    {
      "metadata": {},
      "cell_type": "markdown",
      "source": "## Create your model\n\nWe're now back into familiar territory: prepping data for the model and fitting the model. To keep it interesting, we'll use the scikit-learn `train_test_split()` function with a slight change of parameters to select 75 percent of the data points for training and 25 percent for validation (testing)."
    },
    {
      "metadata": {
        "trusted": false
      },
      "cell_type": "code",
      "source": "from sklearn.model_selection import train_test_split\n\nX_train, X_test, y_train, y_test = train_test_split(\n        df[['wind','rain','month','RH']],\n        df['temp'],\n        test_size=0.25,\n        random_state=42\n    )",
      "execution_count": null,
      "outputs": []
    },
    {
      "metadata": {},
      "cell_type": "markdown",
      "source": "Did you see what we did there? Rather than select all of the variables for the model, we were more selective and just chose windspeed, rainfall, month, and relative humidity in order to predict temperature.\n\nFit scikit-learn's `DecisionTreeRegressor` model using the training data. This algorithm is a combination of the linear regression and decision tree classification that you worked with in Section 6."
    },
    {
      "metadata": {
        "trusted": false
      },
      "cell_type": "code",
      "source": "from sklearn.tree import DecisionTreeRegressor\nfrom sklearn.metrics import r2_score\nregressor = DecisionTreeRegressor(random_state=42)\nregressor.fit(X_train, y_train)\ny_test_predictions = regressor.predict(X_test)\nprint('R^2 for true vs. predicted test set forest temperature: {:0.2f}'.format(r2_score(y_test, y_test_predictions)))",
      "execution_count": null,
      "outputs": []
    },
    {
      "metadata": {
        "trusted": false
      },
      "cell_type": "code",
      "source": "# Play around with this algorithm. \n# Can you get better results changing the variables you select for the training and test data?\n# What if you look at different variables for the response?\n",
      "execution_count": null,
      "outputs": []
    },
    {
      "metadata": {},
      "cell_type": "markdown",
      "source": "## Deploy your model as a web service\n\nThis is the important part. Once deployed as a web service, your model can be accessed from anywhere. This means that rather than refit a model every time you need a new prediction for a business or humanitarian use case, you can send the data to the pre-fitted model and get back a prediction.\n\nFirst, deploy the model as a predictive web service. To do so, create a wrapper function that takes input data as an argument and calls `predict()` with your trained model and this input data, returning the results."
    },
    {
      "metadata": {
        "trusted": false
      },
      "cell_type": "code",
      "source": "from azureml import services\n\n@services.publish(workspace_id, authorization_token)\n@services.types(wind=float, rain=float, month=int, RH=float)\n@services.returns(float)\n\n# The name of your web service is set to this function's name\ndef forest_fire_predictor(wind, rain, month, RH):\n    return regressor.predict([wind, rain, month, RH])\n\n# Hold onto information about your web service so \n# you can call it within the notebook later\nservice_url = forest_fire_predictor.service.url \napi_key = forest_fire_predictor.service.api_key\nhelp_url = forest_fire_predictor.service.help_url\nservice_id = forest_fire_predictor.service.service_id",
      "execution_count": null,
      "outputs": []
    },
    {
      "metadata": {},
      "cell_type": "markdown",
      "source": "You can also go to the **Web Services** section of your Azure ML Studio workspace to see the predictive web service running there."
    },
    {
      "metadata": {},
      "cell_type": "markdown",
      "source": "## Consuming the web service\n\nNext, consume the web service. To see if this works, try it here from the notebook session in which the web service was created. Just call the predictor directly:"
    },
    {
      "metadata": {
        "trusted": false
      },
      "cell_type": "code",
      "source": "forest_fire_predictor.service(5.4, 0.2, 9, 22.1)",
      "execution_count": null,
      "outputs": []
    },
    {
      "metadata": {},
      "cell_type": "markdown",
      "source": "At any later time, you can use the stored API key and service URL to call the service. In the example below, data can be packaged in JavaScript Object Notation (JSON) format and sent to the web service."
    },
    {
      "metadata": {
        "trusted": false
      },
      "cell_type": "code",
      "source": "import urllib2\nimport json\n\ndata = {\"Inputs\": { \n            \"input1\": {\n                \"ColumnNames\": [ \"wind\", \"rain\", \"month\", \"RH\"],\n                \"Values\": [[\"5.4\", \"0.2\", \"9\", \"22.1\"]] \n            }\n        }, # Specified feature values\n        \n        \"GlobalParameters\": {}\n    }\n\nbody = json.dumps(data)\nheaders = {'Content-Type':'application/json', 'Authorization':('Bearer '+ api_key)}\nreq = urllib2.Request(service_url, body, headers) \n\ntry:\n    response = urllib2.urlopen(req)\n    result = json.loads(response.read())  # load JSON-formatted string response as dictionary\n    print(result['Results']['output1']['value']['Values'][0][0]) # Get the returned prediction\n    \nexcept urllib2.HTTPError, error:\n    print(\"The request failed with status code: \" + str(error.code))\n    print(error.info())\n    print(json.loads(error.read()))         ",
      "execution_count": null,
      "outputs": []
    },
    {
      "metadata": {},
      "cell_type": "markdown",
      "source": "### Exercise:\n\nTry this same process of training and hosting a model through Azure ML Studio with the Pima Indians Diabetes dataset (in CSV format in your data folder). The dataset has nine columns; use any of the eight features you see fit to try and predict the ninth column, Outcome (1 = diabetes, 0 = no diabetes).\n\n> **Takeaway**: In this part, you explored fitting a model and deploying it as a web service. You did this by using now-familiar tools in an Azure Notebook to build a model relating variables surrounding forest fires and then posting that as a function in Azure ML Studio. From there, you saw how you and others can access the pre-fitted models to make predictions on new data from anywhere on the web."
    },
    {
      "metadata": {},
      "cell_type": "markdown",
      "source": "You have now created your own ML web service. Let's now see how you can also interact with existing ML web services for even more sophisticated applications."
    }
  ],
  "metadata": {
    "kernelspec": {
      "name": "python2",
      "display_name": "Python 2",
      "language": "python"
    },
    "language_info": {
      "mimetype": "text/x-python",
      "nbconvert_exporter": "python",
      "name": "python",
      "pygments_lexer": "ipython2",
      "version": "2.7.15",
      "file_extension": ".py",
      "codemirror_mode": {
        "version": 2,
        "name": "ipython"
      }
    }
  },
  "nbformat": 4,
  "nbformat_minor": 1
}