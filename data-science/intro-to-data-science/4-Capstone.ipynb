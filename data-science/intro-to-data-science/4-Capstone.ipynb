{
  "cells": [
    {
      "metadata": {
        "collapsed": true
      },
      "cell_type": "markdown",
      "source": "# Capstone Project\n\nIn this Capstone Project you will be engaging with the flight delay data, which can be found at:  \n`Data/flightdata.csv`  \nIn this Notebook. \n\n## Tasks\nUsing what you know about Python, NumPy, Pandas, and Machine Learning you sould:\n- Idenfity requirements for success\n- Identify possible risks in the data if this were a real-world scenario\n- Prepare the data\n- Select features (variables)\n- Split the data between training and testing\n- Choose algorithms\n\n## Options\nIf you would prefer to find your own dataset, that is OK, however limit your searching to about 15 minutes. Microsoft has several [Public Datasets](https://docs.microsoft.com/en-us/azure/sql-database/sql-database-public-data-sets) if you want to start there. \n\nYou are also encouraged to explore any aspects of the data. Be explicit about your inquiry and success in predicting affects on our world."
    },
    {
      "metadata": {
        "trusted": true
      },
      "cell_type": "code",
      "source": "",
      "execution_count": null,
      "outputs": []
    }
  ],
  "metadata": {
    "kernelspec": {
      "name": "python36",
      "display_name": "Python 3.6",
      "language": "python"
    },
    "language_info": {
      "mimetype": "text/x-python",
      "nbconvert_exporter": "python",
      "name": "python",
      "pygments_lexer": "ipython3",
      "version": "3.6.6",
      "file_extension": ".py",
      "codemirror_mode": {
        "version": 3,
        "name": "ipython"
      }
    }
  },
  "nbformat": 4,
  "nbformat_minor": 2
}